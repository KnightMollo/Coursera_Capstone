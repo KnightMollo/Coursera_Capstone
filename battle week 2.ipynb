{
 "cells": [
  {
   "cell_type": "markdown",
   "metadata": {},
   "source": [
    "<H1 align=center>Battle of Neighborhoods Final Report"
   ]
  },
  {
   "cell_type": "markdown",
   "metadata": {},
   "source": [
    "<H2>Introduction"
   ]
  },
  {
   "cell_type": "markdown",
   "metadata": {},
   "source": [
    "After exploring the New York City and the city of Toronto, I would like to know more about these two cities. I would like to compare the neighborhoods of these two cities and determing how similar they are.\n",
    "\n",
    "And I will help investors to decide where to buy real estates or start a business. This project will help them to find better advantages of different districts so they can make the best of their investments."
   ]
  },
  {
   "cell_type": "markdown",
   "metadata": {},
   "source": [
    "<H2>Data"
   ]
  },
  {
   "cell_type": "markdown",
   "metadata": {},
   "source": [
    "From the results on New York, the lab especially tells 10 most common venues in each district. The data set is about Toronto Venues. After transforming the data to Json files, it is easy to use Pandas to transform them into DataFrame. Then select the required data columns to appear and get the information we want. Geopy library is used to get the latitude and longitude values. With the locations the maps can be created and we will have a direct understanding of the neighborhoods and the purposed areas. The Folium library is also used to show maps on different requirements."
   ]
  },
  {
   "cell_type": "markdown",
   "metadata": {},
   "source": [
    "<H2>Methodology"
   ]
  },
  {
   "cell_type": "markdown",
   "metadata": {},
   "source": [
    "1. With a specific credentials client ID and secret, the required foursquare data can be accessed.\n",
    "\n",
    "2. Folium map library can show directly the overall map we need. \n",
    "\n",
    "3. JSON files are easy to read and write. And Json library provides easy access to JSON files.\n",
    "\n",
    "4. KMeans is commonly used in clustering data sets, especialy for clustering unlabeled data."
   ]
  },
  {
   "cell_type": "markdown",
   "metadata": {},
   "source": [
    "<H2>Results"
   ]
  },
  {
   "cell_type": "markdown",
   "metadata": {},
   "source": [
    "In east Toronto, most of the neighborhoods have the most common venues of coffee shops, pubs and parks. In central Toronto, most of the neighborhoods have the most common venues of lakes, grocery stores and restaurants. In downtown Toronto, cafes and different kinds of restaurants are distributed in different neighborhoods. There is also a unique place called Gay Bar in Church and Wellesley. In West Toronto, the kind of restaurants are more, such as Vietnamese restaurants and Mexican restaurants.\n",
    "\n",
    "In Toronto, venues types are various and investors can choose their preferable neighborhoods to open the restaurants and the companies. In my opinion, their should be more crowds to make the neighborhood more developed."
   ]
  },
  {
   "cell_type": "markdown",
   "metadata": {},
   "source": [
    "<H2>Discussion"
   ]
  },
  {
   "cell_type": "markdown",
   "metadata": {},
   "source": [
    "From data of top 10 common venues in Toronto, the best place for investors to open a restaurant or start a company should not be one, but also several choices. The data only showed us the current numbers of each kind of venues but no other factors such as cost of the place or environment.\n",
    "\n",
    "From the clusters map we can see different markers of places in their own clusters. The results showed us top ten common venues in each neighborhood so that the investors will find their preferable places to locate in.\n",
    "\n",
    "Finally, the investors will compare the several similar venues with less cost and more crowds. The two factors are not concerned in this project but we can estimate from the distribution of top ten common venues in results data from my last part of the notebook."
   ]
  },
  {
   "cell_type": "markdown",
   "metadata": {},
   "source": [
    "<H2>Conclusion"
   ]
  },
  {
   "cell_type": "markdown",
   "metadata": {},
   "source": [
    "The investors to open a restaurant in Toronto should consider several factors. One is the data shown in my notebook, that is how many restaurants in different neighborhoods of every districts of Toronto. Second is the crowds of different districts, which depends on the kinds of venues in different areas. If there is more lakes, the number may be small.\n",
    "\n",
    "The investors should consider the competitive restaurants in the district. Try not to compete with those nearby with more similar kinds of restaurants as yours, that may do bad for the kind of investment. But for start a company, it is good to choose the place with more kinds of restaurants so that you will attract more employees to be hired."
   ]
  }
 ],
 "metadata": {
  "kernelspec": {
   "display_name": "Python 3",
   "language": "python",
   "name": "python3"
  },
  "language_info": {
   "codemirror_mode": {
    "name": "ipython",
    "version": 3
   },
   "file_extension": ".py",
   "mimetype": "text/x-python",
   "name": "python",
   "nbconvert_exporter": "python",
   "pygments_lexer": "ipython3",
   "version": "3.8.3"
  }
 },
 "nbformat": 4,
 "nbformat_minor": 4
}
